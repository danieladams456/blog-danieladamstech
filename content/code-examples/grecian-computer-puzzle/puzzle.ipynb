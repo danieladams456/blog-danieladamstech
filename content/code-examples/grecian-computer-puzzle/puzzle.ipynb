{
 "cells": [
  {
   "cell_type": "code",
   "execution_count": 1,
   "metadata": {},
   "outputs": [],
   "source": [
    "import csv\n",
    "\n",
    "NUM_ROWS = 4\n",
    "NUM_COLS = 12\n",
    "NUM_LAYERS = 5\n",
    "SOLUTION = [42 for _ in range(NUM_COLS)]"
   ]
  },
  {
   "cell_type": "code",
   "execution_count": 2,
   "metadata": {},
   "outputs": [
    {
     "data": {
      "text/plain": [
       "[[[None, None, None, None, None, None, None, None, None, None, None, None],\n",
       "  [None, None, None, None, None, None, None, None, None, None, None, None],\n",
       "  [None, None, None, None, None, None, None, None, None, None, None, None],\n",
       "  [3, None, 6, None, 10, None, 7, None, 15, None, 8, None]],\n",
       " [[None, None, None, None, None, None, None, None, None, None, None, None],\n",
       "  [None, None, None, None, None, None, None, None, None, None, None, None],\n",
       "  [4, None, 7, 15, None, None, 14, None, 9, None, 12, None],\n",
       "  [7, 3, None, 6, None, 11, 11, 6, 11, None, 6, 17]],\n",
       " [[None, None, None, None, None, None, None, None, None, None, None, None],\n",
       "  [5, None, 10, None, 8, None, 22, None, 16, None, 9, None],\n",
       "  [21, 6, 15, 4, 9, 18, 11, 26, 14, 1, 12, None],\n",
       "  [9, 13, 9, 7, 13, 21, 17, 4, 5, None, 7, 8]],\n",
       " [[1, None, 9, None, 12, None, 6, None, 10, None, 10, None],\n",
       "  [3, 26, 6, None, 2, 13, 9, None, 17, 19, 3, 12],\n",
       "  [9, 20, 12, 3, 6, None, 14, 12, 3, 8, 9, None],\n",
       "  [7, None, 9, None, 7, 14, 11, None, 8, None, 16, 2]],\n",
       " [[2, 5, 10, 7, 16, 8, 7, 8, 8, 3, 4, 12],\n",
       "  [3, 3, 14, 14, 21, 21, 9, 9, 4, 4, 6, 6],\n",
       "  [8, 9, 10, 11, 12, 13, 14, 15, 4, 5, 6, 7],\n",
       "  [14, 11, 14, 14, 11, 14, 11, 14, 11, 11, 14, 11]]]"
      ]
     },
     "execution_count": 2,
     "metadata": {},
     "output_type": "execute_result"
    }
   ],
   "source": [
    "# hard to inline with Pythonic try/except\n",
    "def try_int(x):\n",
    "    try:\n",
    "        return int(x)\n",
    "    except ValueError:\n",
    "        return None\n",
    "\n",
    "def read_matrix(file_name):\n",
    "    typed_matrix = []\n",
    "    with open(file_name, newline=\"\") as infile:\n",
    "        # auto parsing just converted numbers to floats, leaving others as empty strings\n",
    "        for row in csv.reader(infile):\n",
    "            typed_row = [try_int(a) for a in row]\n",
    "            typed_matrix.append(typed_row)\n",
    "    return typed_matrix\n",
    "    \n",
    "\n",
    "layers = [ read_matrix(f\"input/layer{i}.csv\") for i in range(NUM_LAYERS) ]\n",
    "\n",
    "# check dimensions\n",
    "for layer in layers:\n",
    "    assert len(layer) == NUM_ROWS\n",
    "    for i in range(NUM_ROWS):\n",
    "        assert len(layer[i]) == NUM_COLS\n",
    "\n",
    "layers"
   ]
  },
  {
   "cell_type": "code",
   "execution_count": 3,
   "metadata": {},
   "outputs": [
    {
     "data": {
      "text/plain": [
       "20736"
      ]
     },
     "execution_count": 3,
     "metadata": {},
     "output_type": "execute_result"
    }
   ],
   "source": [
    "# there's also a modulus solution to this, but just start simple\n",
    "shifts = []\n",
    "# there is no \"a\" for shifting the first layer since we hold that steady.  Otherwise would have NUM_COLS solutions.\n",
    "for b in range(NUM_COLS):\n",
    "    for c in range(NUM_COLS):\n",
    "        for d in range(NUM_COLS):\n",
    "            for e in range(NUM_COLS):\n",
    "                shifts.append([0,b,c,d,e])\n",
    "len(shifts)"
   ]
  },
  {
   "cell_type": "code",
   "execution_count": 4,
   "metadata": {},
   "outputs": [],
   "source": [
    "def column_sums(layers, shifts):\n",
    "    sums = []\n",
    "    # go column by column (width)\n",
    "    for column in range(NUM_COLS):\n",
    "        col_sum = 0\n",
    "        # by row (height)\n",
    "        for row in range(NUM_ROWS):\n",
    "            # by layer (depth)\n",
    "            for layer_num in range(NUM_LAYERS):\n",
    "                layer = layers[layer_num]\n",
    "                shift = shifts[layer_num]\n",
    "                shifted_column = (column + shift) % NUM_COLS\n",
    "                value = layer[row][shifted_column]\n",
    "                if value is not None:\n",
    "                    col_sum += value\n",
    "                    break # found \"top\" layer with value, move on to next column\n",
    "\n",
    "        sums.append(col_sum)\n",
    "    if sums == SOLUTION:\n",
    "        print('winner! shifts:', shifts)"
   ]
  },
  {
   "cell_type": "code",
   "execution_count": 5,
   "metadata": {},
   "outputs": [
    {
     "name": "stdout",
     "output_type": "stream",
     "text": [
      "winner! shifts: [0, 1, 8, 2, 2]\n"
     ]
    }
   ],
   "source": [
    "for shift in shifts:\n",
    "    column_sums(layers, shift)"
   ]
  }
 ],
 "metadata": {
  "kernelspec": {
   "display_name": "Python 3",
   "language": "python",
   "name": "python3"
  },
  "language_info": {
   "codemirror_mode": {
    "name": "ipython",
    "version": 3
   },
   "file_extension": ".py",
   "mimetype": "text/x-python",
   "name": "python",
   "nbconvert_exporter": "python",
   "pygments_lexer": "ipython3",
   "version": "3.9.7"
  }
 },
 "nbformat": 4,
 "nbformat_minor": 2
}
